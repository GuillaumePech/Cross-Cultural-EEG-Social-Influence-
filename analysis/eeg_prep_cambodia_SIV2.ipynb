{
 "cells": [
  {
   "cell_type": "code",
   "execution_count": 8,
   "metadata": {},
   "outputs": [],
   "source": [
    "# -*- coding: utf-8 -*-\n",
    "\"\"\"\n",
    "Created on Tue Apr 26 14:23:30 2022\n",
    "@author: Guillaume PECH\n",
    "\"\"\"\n",
    "\n",
    "# Import necessary libraries\n",
    "import os, mne, csv, re\n",
    "import numpy as np\n",
    "from mne.channels import make_standard_montage\n",
    "from glob import glob\n",
    "from mne_bids import BIDSPath, write_raw_bids\n",
    "from pyprep.find_noisy_channels import NoisyChannels\n",
    "\n",
    "# Set the source directory path for the raw data\n",
    "root_source = 'C:/Users/mfbpe/Desktop/DATA/2023_Social_Influence/raw'\n",
    "\n",
    "# Set the folder for recreate the data in bids format downsampled \n",
    "root_bids = 'C:/Users/mfbpe/Desktop/DATA/2023_Social_Influence/bids/'\n",
    "\n",
    "# Set the derivatives directory path\n",
    "root_derivatives = root_source.split('/raw')[0] + '/derivatives'\n",
    "\n",
    "# Set the image directory path\n",
    "root_image = 'C:/Users/mfbpe/Desktop/DATA/2023_Social_Influence/images_prep_eeg/'\n",
    "\n",
    "# Change the current working directory to the derivatives directory\n",
    "os.chdir(root_derivatives)\n",
    "\n",
    "# Get a list of all file paths with .bdf extension in the source directory\n",
    "all_files_path = sorted(glob(f'{root_source}/*V2.bdf'), key=len)\n"
   ]
  },
  {
   "cell_type": "code",
   "execution_count": 49,
   "metadata": {},
   "outputs": [],
   "source": [
    "%%capture\n",
    "\n",
    "# Define a dictionary with participant numbers as keys and a list of bad channels as values + a list of bad ica components\n",
    "\n",
    "prtp_chs_out = {}\n",
    "\n",
    "\n",
    "prtp_ica_out = {}\n",
    "\n",
    "# Loop over each file path in the list of all_files_path\n",
    "for part in all_files_path:\n",
    "        # Extract the participant number from the file path\n",
    "        n_part = re.split('raw|_SIV2.bdf', part)[1][1:]  # e.g., '001'\n",
    "        # Read the raw data from the BDF file\n",
    "        raw = mne.io.read_raw_bdf(part)\n",
    "        \n",
    "        bidspath = BIDSPath(subject=n_part, task='socInfluenceV2', datatype='eeg', root=root_bids)\n",
    "        \n",
    "        # Load the data into memory\n",
    "        raw.load_data()\n",
    "\n",
    "        events= mne.find_events(raw, shortest_event=1)\n",
    "        try :\n",
    "            raw.crop(((events[1,0]/2048))-3, (events[-1,0]/2048)+3)\n",
    "        except : \n",
    "            pass\n",
    "\n",
    "        events= mne.find_events(raw, shortest_event=1)\n",
    "        # # Resample the data by downsampling to 1/4th of the original sample rate\n",
    "        raw, events = raw.resample(sfreq=raw.info['sfreq'] / 4, events= events)\n",
    "        \n",
    "        event_id = { 'vizualisation/forced/authority/yes':1,'vizualisation/forced/authority/no':2,'vizualisation/forced/group/yes':3,'vizualisation/forced/group/no':4,\n",
    "        'vizualisation/forced/indiv/yes':5,'vizualisation/forced/indiv/no':6,'vizualisation/free/authority-yes/group-yes':7,'vizualisation/free/authority-yes/group-no':8,'vizualisation/free/authority-no/group-yes':11,\n",
    "        'vizualisation/free/authority-yes/indiv-yes':9,'vizualisation/free/authority-yes/indiv-no':10, 'vizualisation/free/authority-no/group-no':12,'vizualisation/free/authority-no/indiv-yes':13, 'vizualisation/free/authority-no/indiv-no':14,\n",
    "        'vizualisation/free/group-yes/indiv-yes':15, 'vizualisation/free/group-yes/indiv-no':16,'vizualisation/free/group-no/indiv-yes':17, 'vizualisation/free/group-no/indiv-no':18,\n",
    "        'selection/forced/authority/yes':19,'selection/forced/authority/no':20,'selection/forced/group/yes':21,'selection/forced/group/no':22,'selection/forced/indiv/yes':23,'selection/forced/indiv/no':24,\n",
    "        'selection/free/authority/yes':25,'selection/free/authority/no':26,'selection/free/group/yes':27,'selection/free/group/no':28,'selection/free/indiv/yes':29,'selection/free/indiv/no':30}# Define event dictionary\n",
    "    \n",
    "        events = events[np.isin(events[:, 2], list(event_id.values()))]\n",
    "        raw.add_events(events,replace=True)\n",
    "\n",
    "\n",
    "        try:\n",
    "            raw.set_channel_types({'EXG1': 'misc', 'EXG2': 'misc', 'EXG3': 'eog', 'EXG4': 'eog'})\n",
    "        except:\n",
    "            pass\n",
    "        # Set the 32 system BioSemi channel positions on the data\n",
    "        montage = make_standard_montage('biosemi32')\n",
    "        new_names = dict(zip(raw.ch_names, montage.ch_names))\n",
    "        raw.rename_channels(new_names)\n",
    "        raw.set_montage(montage)\n",
    "\n",
    "        write_raw_bids(raw, bidspath, events=events, event_id=event_id, format='BrainVision', allow_preload=True,overwrite=True)\n",
    "\n",
    "        # Apply a bandpass filter to the raw data \n",
    "        raw.filter(l_freq=1, h_freq=30, picks='all', n_jobs=-1)\n",
    "\n",
    "        # Interpolate bad channels for participants in the prtp_chs_out list\n",
    "        if n_part in list(prtp_chs_out):\n",
    "            raw.info['bads'] = prtp_chs_out[n_part]\n",
    "            raw = raw.interpolate_bads()\n",
    "        else :\n",
    "            noisy= NoisyChannels(raw)\n",
    "            noisy.find_all_bads()\n",
    "            bad_chs = noisy.get_bads()\n",
    "            raw.info['bads'] = bad_chs\n",
    "            raw = raw.interpolate_bads()\n",
    "\n",
    "            prtp_chs_out[n_part]=bad_chs\n",
    "\n",
    "        # Perform Independent Component Analysis (ICA) on the copied data\n",
    "        ica = mne.preprocessing.ICA(random_state=21, max_iter='auto')\n",
    "        ica.fit(raw)\n",
    "\n",
    "        # Set the channel types for EOG channels based on the participant\n",
    "        raw.set_channel_types({'Fp1': 'eog', 'Fp2': 'eog'})\n",
    "\n",
    "        # Selecting bad components ICA for participants in the prtp_ica_out list or calculating bad components\n",
    "\n",
    "        if n_part in list(prtp_ica_out):\n",
    "            eog_indices = prtp_ica_out[n_part]\n",
    "        else : \n",
    "            # Find ICs (Independent Components) that match the EOG pattern\n",
    "            eog_indices, eog_scores = ica.find_bads_eog(raw, measure='correlation', threshold=0.5)\n",
    "            prtp_ica_out[n_part]=eog_indices\n",
    "\n",
    "        ica.exclude = eog_indices\n",
    "\n",
    "        # Set the channel types back to EEG channels \n",
    "        raw.set_channel_types({'Fp1': 'eeg', 'Fp2': 'eeg'})\n",
    "\n",
    "        # If there are EOG components to exclude, plot diagnostics and save the figures\n",
    "        if len(eog_indices) > 0:\n",
    "            ica.apply(raw)\n",
    "            fig = ica.plot_components(picks=np.arange(ica.n_components_), show = False) #create figures of the components with the one removed\n",
    "            fig.savefig(f\"{root_image}sub-{n_part}_SIV2_ICA.png\")\n",
    "\n",
    "        del ica\n",
    "\n",
    "        # Save the preprocessed raw data\n",
    "        raw.save(f\"sub-{n_part}_SIV2_raw.fif\", overwrite=True)\n",
    "\n",
    "        del raw\n",
    "\n",
    "# create the txt file\n",
    "\n",
    "with open('list_bad_channels.txt', 'w') as f:\n",
    "    f.write('dict = ' + repr(prtp_chs_out) + '\\n')\n",
    "    \n",
    "with open('list_bad_ica.txt', 'w') as f:\n",
    "    f.write('dict = ' + repr(prtp_ica_out) + '\\n')    \n"
   ]
  },
  {
   "cell_type": "code",
   "execution_count": 12,
   "metadata": {},
   "outputs": [],
   "source": [
    "chs_out = []\n",
    "for i in prtp_ica_out:\n",
    "    chs_out.append(len(prtp_ica_out[i]))"
   ]
  },
  {
   "cell_type": "code",
   "execution_count": 13,
   "metadata": {},
   "outputs": [
    {
     "name": "stdout",
     "output_type": "stream",
     "text": [
      "2.1184210526315788 0.32310603046864933\n"
     ]
    }
   ],
   "source": [
    "import numpy as np \n",
    "print(np.mean(chs_out),np.std(chs_out))"
   ]
  },
  {
   "cell_type": "code",
   "execution_count": 2,
   "metadata": {},
   "outputs": [],
   "source": [
    "prtp_chs_out = {'154': ['T7'], '156': ['PO3', 'T7', 'PO4'], '157': ['PO3', 'T7', 'Pz'], '159': ['Pz', 'O1', 'PO3', 'T7', 'P7', 'CP1'], '166': ['PO3'], '169': [], '170': ['O1', 'PO3'], '171': ['CP6', 'PO3'], '172': ['Pz', 'PO3', 'CP5', 'T7', 'CP1'], '173': [], '175': ['Pz', 'P8', 'O1', 'O2', 'PO3', 'T7'], '176': ['PO3'], '177': ['PO3'], '178': ['P3', 'PO3', 'T7', 'Pz'], '179': ['P7', 'O2', 'PO3'], '180': ['CP6', 'PO3'], '181': ['P7', 'P3', 'PO3', 'CP2'], '183': ['PO3'], '184': ['T8', 'F7', 'F4', 'PO3', 'T7', 'F3'], '728': ['PO3'], '729': ['PO3'], '730': [], '731': ['Pz'], '732': ['Pz'], '733': ['PO3'], '734': ['PO3', 'Pz'], '735': [], '736': [], '737': [], '739': ['P7', 'T8', 'T7'], '740': ['P3'], '741': ['CP6', 'PO3', 'T8', 'PO4'], '742': ['P7', 'PO3', 'PO4'], '743': ['T8', 'PO3', 'Pz'], '744': ['Pz'], '746': ['PO4', 'Pz'], '747': ['O1'], '748': ['PO3'], '931': [], '932': ['P3', 'PO3'], '933': ['P3', 'PO3'], '934': ['Pz'], '935': ['PO3', 'Pz'], '937': [], '938': ['PO3'], '940': ['PO3', 'Pz'], '941': ['P7', 'O1'], '942': ['PO3'], '944': ['Pz'], '945': ['P3', 'PO3', 'T7'], '946': ['PO3', 'Pz'], '947': ['T8', 'Fp2'], '948': ['PO3', 'Pz'], '949': ['P3', 'F7', 'Pz'], '950': ['O2', 'P4', 'Oz', 'CP5'], '951': ['T8', 'Fp1', 'P4', 'PO3', 'T7', 'PO4'], '952': ['O2', 'PO3', 'Oz', 'Pz'], '953': ['T7'], '954': ['PO3'], '955': ['P4', 'PO3'], '956': ['P3', 'CP2', 'CP1'], '957': ['O1', 'P3', 'PO3'], '958': [], '155': ['Fp1', 'Fp2', 'PO3'], '160': ['PO3'], '161': [], '162': ['PO3', 'T7'], '163': [], '164': ['Fp1', 'Fp2', 'Pz', 'PO4'], '165': ['T7'], '167': ['Oz'], '174': ['PO3', 'PO4'], '182': ['P3'], '745': ['PO3'], '936': ['Fp1', 'Fp2', 'F7'], '939': []}\n",
    "\n",
    "prtp_ica_out ={'154': [0, 2], '156': [0, 2], '157': [0, 1], '159': [0, 1], '162': [0, 2], '166': [1, 2], '169': [0, 1], '170': [3, 1], '171': [0, 1, 2], '172': [0, 3], '173': [1, 3], '175': [0, 1], '176': [0, 2], '177': [0, 1], '178': [0, 4], '179': [0, 2], '180': [1, 4], '181': [0, 2], '183': [0, 2, 3], '184': [1, 4], '728': [0, 2], '729': [0, 2], '730': [0, 2], '731': [2, 4], '732': [1, 0], '733': [0, 1], '734': [0, 5], '735': [14, 5, 2], '736': [1, 2], '737': [0, 1], '739': [1, 0], '740': [0, 2], '741': [0, 3, 1], '742': [0, 1], '743': [5, 17], '744': [0, 3], '746': [0, 5], '747': [8, 9], '748': [0, 3], '931': [0, 1], '932': [1, 4], '933': [0, 1], '934': [0, 2], '935': [1,3], '937': [0, 1], '938': [0, 1], '940': [0, 2], '941': [0, 1], '942': [0, 2], '944': [0, 1], '945': [0, 1], '946': [2, 3], '947': [2, 0, 1], '948': [0, 1], '949': [0, 1], '950': [0, 3, 4], '951': [2, 4], '952': [1,12], '953': [1, 2], '954': [0, 2, 1], '955': [0, 4, 3], '956': [1, 2], '957': [1, 5, 7], '958': [0, 1],'155': [4,6], '160': [1,3], '161': [2,4], '163': [2,3], '164': [6,10], '165': [3, 6], '167': [0, 3], '174': [4, 5], '182': [1, 26], '745': [2, 22], '936': [1,6], '939': [22, 17]}"
   ]
  },
  {
   "cell_type": "code",
   "execution_count": 5,
   "metadata": {},
   "outputs": [],
   "source": [
    "\n",
    "# Import necessary libraries\n",
    "import os, mne, csv, re\n",
    "import numpy as np\n",
    "from mne.channels import make_standard_montage\n",
    "from glob import glob\n",
    "from mne_bids import BIDSPath, write_raw_bids, read_raw_bids\n",
    "\n",
    "from pyprep.find_noisy_channels import NoisyChannels\n",
    "# Set the source directory path for the sampled bids data / some participant segment have been marked as bad due to poor ICA components visualization\n",
    "root_source = 'C:/Users/mfbpe/Desktop/DATA/2023_Social_Influence/bids/'\n",
    "\n",
    "# Set the derivatives directory path\n",
    "root_derivatives = root_source.split('/bids')[0] + '/derivatives_with_tfr'\n",
    "\n",
    "# Set the image directory path\n",
    "root_image = 'C:/Users/mfbpe/Desktop/DATA/2023_Social_Influence/images_prep_eeg/'\n",
    "\n",
    "root_bids = 'C:/Users/mfbpe/Desktop/DATA/2023_Social_Influence/1-bids/'\n",
    "\n",
    "\n",
    "# Change the current working directory to the derivatives directory\n",
    "os.chdir(root_derivatives)\n",
    "\n",
    "# Get a list of all file paths with .bdf extension in the source directory\n",
    "all_files_path = sorted(glob(f'{root_source}/*/*/*V2_eeg.vhdr*'), key=len)\n",
    "\n",
    "# Define a dictionary with participant numbers as keys and a list of bad channels as values + a list of bad ica components\n",
    "\n",
    "prtp_chs_out = {'154': ['T7'], '156': ['PO3', 'T7', 'PO4'], '157': ['PO3', 'T7', 'Pz'], '159': ['Pz', 'O1', 'PO3', 'T7', 'P7', 'CP1'], '166': ['PO3'], '169': [], '170': ['O1', 'PO3'], '171': ['CP6', 'PO3'], '172': ['Pz', 'PO3', 'CP5', 'T7', 'CP1'], '173': [], '175': ['Pz', 'P8', 'O1', 'O2', 'PO3', 'T7'], '176': ['PO3'], '177': ['PO3'], '178': ['P3', 'PO3', 'T7', 'Pz'], '179': ['P7', 'O2', 'PO3'], '180': ['CP6', 'PO3'], '181': ['P7', 'P3', 'PO3', 'CP2'], '183': ['PO3'], '184': ['T8', 'F7', 'F4', 'PO3', 'T7', 'F3'], '728': ['PO3'], '729': ['PO3'], '730': [], '731': ['Pz'], '732': ['Pz'], '733': ['PO3'], '734': ['PO3', 'Pz'], '735': [], '736': [], '737': [], '739': ['P7', 'T8', 'T7'], '740': ['P3'], '741': ['CP6', 'PO3', 'T8', 'PO4'], '742': ['P7', 'PO3', 'PO4'], '743': ['T8', 'PO3', 'Pz'], '744': ['Pz'], '746': ['PO4', 'Pz'], '747': ['O1'], '748': ['PO3'], '931': [], '932': ['P3', 'PO3'], '933': ['P3', 'PO3'], '934': ['Pz'], '935': ['PO3', 'Pz'], '937': [], '938': ['PO3'], '940': ['PO3', 'Pz'], '941': ['P7', 'O1'], '942': ['PO3'], '944': ['Pz'], '945': ['P3', 'PO3', 'T7'], '946': ['PO3', 'Pz'], '947': ['T8', 'Fp2'], '948': ['PO3', 'Pz'], '949': ['P3', 'F7', 'Pz'], '950': ['O2', 'P4', 'Oz', 'CP5'], '951': ['T8', 'Fp1', 'P4', 'PO3', 'T7', 'PO4'], '952': ['O2', 'PO3', 'Oz', 'Pz'], '953': ['T7'], '954': ['PO3'], '955': ['P4', 'PO3'], '956': ['P3', 'CP2', 'CP1'], '957': ['O1', 'P3', 'PO3'], '958': [], '155': ['Fp1', 'Fp2', 'PO3'], '160': ['PO3'], '161': [], '162': ['PO3', 'T7'], '163': [], '164': ['Fp1', 'Fp2', 'Pz', 'PO4'], '165': ['T7'], '167': ['Oz'], '174': ['PO3', 'PO4'], '182': ['P3'], '745': ['PO3'], '936': ['Fp1', 'Fp2', 'F7'], '939': []}\n",
    "\n",
    "prtp_ica_out ={'154': [0, 2], '156': [0, 2], '157': [0, 1], '159': [0, 1], '162': [0, 2], '166': [1, 2], '169': [0, 1], '170': [3, 1], '171': [0, 1, 2], '172': [0, 3], '173': [1, 3], '175': [0, 1], '176': [0, 2], '177': [0, 1], '178': [0, 4], '179': [0, 2], '180': [1, 4], '181': [0, 2], '183': [0, 2, 3], '184': [1, 4], '728': [0, 2], '729': [0, 2], '730': [0, 2], '731': [2, 4], '732': [1, 0], '733': [0, 1], '734': [0, 5], '735': [14, 5, 2], '736': [1, 2], '737': [0, 1], '739': [1, 0], '740': [0, 2], '741': [0, 3, 1], '742': [0, 1], '743': [5, 17], '744': [0, 3], '746': [0, 5], '747': [8, 9], '748': [0, 3], '931': [0, 1], '932': [1, 4], '933': [0, 1], '934': [0, 2], '935': [1,3], '937': [0, 1], '938': [0, 1], '940': [0, 2], '941': [0, 1], '942': [0, 2], '944': [0, 1], '945': [0, 1], '946': [2, 3], '947': [2, 0, 1], '948': [0, 1], '949': [0, 1], '950': [0, 3, 4], '951': [2, 4], '952': [1,12], '953': [1, 2], '954': [0, 2, 1], '955': [0, 4, 3], '956': [1, 2], '957': [1, 5, 7], '958': [0, 1],'155': [4,6], '160': [1,3], '161': [2,4], '163': [2,3], '164': [6,10], '165': [3, 6], '167': [0, 3], '174': [4, 5], '182': [1, 26], '745': [2, 22], '936': [1,6], '939': [22, 17]}\n",
    "\n"
   ]
  },
  {
   "cell_type": "code",
   "execution_count": 6,
   "metadata": {},
   "outputs": [
    {
     "name": "stdout",
     "output_type": "stream",
     "text": [
      "Extracting parameters from C:\\Users\\mfbpe\\Desktop\\DATA\\2023_Social_Influence\\1-bids\\sub-155\\eeg\\sub-155_task-socInfluenceV2_eeg.vhdr...\n",
      "Setting channel info structure...\n",
      "Reading events from C:\\Users\\mfbpe\\Desktop\\DATA\\2023_Social_Influence\\1-bids\\sub-155\\eeg\\sub-155_task-socInfluenceV2_events.tsv.\n",
      "Reading channel info from C:\\Users\\mfbpe\\Desktop\\DATA\\2023_Social_Influence\\1-bids\\sub-155\\eeg\\sub-155_task-socInfluenceV2_channels.tsv.\n",
      "Reading electrode coords from C:\\Users\\mfbpe\\Desktop\\DATA\\2023_Social_Influence\\1-bids\\sub-155\\eeg\\sub-155_space-CapTrak_electrodes.tsv.\n",
      "Reading 0 ... 779409  =      0.000 ...  1522.283 secs...\n",
      "Filtering raw data in 1 contiguous segment\n",
      "Setting up band-pass filter from 1 - 30 Hz\n",
      "\n",
      "FIR filter parameters\n",
      "---------------------\n",
      "Designing a one-pass, zero-phase, non-causal bandpass filter:\n",
      "- Windowed time-domain design (firwin) method\n",
      "- Hamming window with 0.0194 passband ripple and 53 dB stopband attenuation\n",
      "- Lower passband edge: 1.00\n",
      "- Lower transition bandwidth: 1.00 Hz (-6 dB cutoff frequency: 0.50 Hz)\n",
      "- Upper passband edge: 30.00 Hz\n",
      "- Upper transition bandwidth: 7.50 Hz (-6 dB cutoff frequency: 33.75 Hz)\n",
      "- Filter length: 1691 samples (3.303 s)\n",
      "\n"
     ]
    },
    {
     "name": "stderr",
     "output_type": "stream",
     "text": [
      "[Parallel(n_jobs=-1)]: Using backend LokyBackend with 16 concurrent workers.\n",
      "[Parallel(n_jobs=-1)]: Done   2 tasks      | elapsed:    8.8s\n",
      "[Parallel(n_jobs=-1)]: Done  25 out of  33 | elapsed:    9.5s remaining:    3.0s\n",
      "[Parallel(n_jobs=-1)]: Done  33 out of  33 | elapsed:    9.6s finished\n"
     ]
    },
    {
     "data": {
      "text/html": [
       "<details open>\n",
       "    <summary><strong>General</strong></summary>\n",
       "    <table class=\"table table-hover table-striped table-sm table-responsive small\">\n",
       "        <tr>\n",
       "            <th>Measurement date</th>\n",
       "            \n",
       "            <td>March 30, 2023  15:26:00 GMT</td>\n",
       "            \n",
       "        </tr>\n",
       "        <tr>\n",
       "            <th>Experimenter</th>\n",
       "            \n",
       "            <td>mne_anonymize</td>\n",
       "            \n",
       "        </tr>\n",
       "        <tr>\n",
       "            <th>Participant</th>\n",
       "            \n",
       "            \n",
       "            <td>sub-155</td>\n",
       "            \n",
       "            \n",
       "        </tr>\n",
       "    </table>\n",
       "    </details>\n",
       "    <details open>\n",
       "        <summary><strong>Channels</strong></summary>\n",
       "        <table class=\"table table-hover table-striped table-sm table-responsive small\">\n",
       "            <tr>\n",
       "                <th>Digitized points</th>\n",
       "                \n",
       "                <td>35 points</td>\n",
       "                \n",
       "            </tr>\n",
       "            <tr>\n",
       "                <th>Good channels</th>\n",
       "                <td>31 EEG, 1 Stimulus</td>\n",
       "            </tr>\n",
       "            <tr>\n",
       "                <th>Bad channels</th>\n",
       "                <td>T7</td>\n",
       "            </tr>\n",
       "            <tr>\n",
       "                <th>EOG channels</th>\n",
       "                <td>Not available</td>\n",
       "            </tr>\n",
       "            <tr>\n",
       "                <th>ECG channels</th>\n",
       "                <td>Not available</td>\n",
       "            </tr>\n",
       "        </table>\n",
       "        </details>\n",
       "        <details open>\n",
       "            <summary><strong>Data</strong></summary>\n",
       "            <table class=\"table table-hover table-striped table-sm table-responsive small\">\n",
       "                \n",
       "                <tr>\n",
       "                    <th>Sampling frequency</th>\n",
       "                    <td>512.00 Hz</td>\n",
       "                </tr>\n",
       "                \n",
       "                \n",
       "                <tr>\n",
       "                    <th>Highpass</th>\n",
       "                    <td>1.00 Hz</td>\n",
       "                </tr>\n",
       "                \n",
       "                \n",
       "                <tr>\n",
       "                    <th>Lowpass</th>\n",
       "                    <td>30.00 Hz</td>\n",
       "                </tr>\n",
       "                \n",
       "                \n",
       "                \n",
       "                <tr>\n",
       "                    <th>Filenames</th>\n",
       "                    <td>sub-155_task-socInfluenceV2_eeg.eeg</td>\n",
       "                </tr>\n",
       "                \n",
       "                \n",
       "                <tr>\n",
       "                    <th>Duration</th>\n",
       "                    <td>00:25:23 (HH:MM:SS)</td>\n",
       "                </tr>\n",
       "                \n",
       "            </table>\n",
       "            </details>"
      ],
      "text/plain": [
       "<RawBrainVision | sub-155_task-socInfluenceV2_eeg.eeg, 33 x 779410 (1522.3 s), ~196.3 MB, data loaded>"
      ]
     },
     "execution_count": 6,
     "metadata": {},
     "output_type": "execute_result"
    }
   ],
   "source": [
    "# Extract the participant number from the file path\n",
    "n_part = '155'\n",
    "bidspath = BIDSPath(subject=n_part, task='socInfluenceV2', datatype='eeg', root=root_bids)\n",
    "raw = read_raw_bids(bids_path=bidspath).load_data()\n",
    "\n",
    "# Apply a bandpass filter to the raw data \n",
    "raw.filter(l_freq=1, h_freq=30, picks='all', n_jobs=-1)"
   ]
  },
  {
   "cell_type": "code",
   "execution_count": 7,
   "metadata": {},
   "outputs": [
    {
     "name": "stdout",
     "output_type": "stream",
     "text": [
      "Using matplotlib as 2D backend.\n"
     ]
    },
    {
     "data": {
      "text/plain": [
       "<MNEBrowseFigure size 2666x1401 with 4 Axes>"
      ]
     },
     "execution_count": 7,
     "metadata": {},
     "output_type": "execute_result"
    },
    {
     "name": "stdout",
     "output_type": "stream",
     "text": [
      "Channels marked as bad:\n",
      "['T7']\n"
     ]
    }
   ],
   "source": [
    "import matplotlib\n",
    "matplotlib.use(\"Qt5Agg\")\n",
    "raw.plot()"
   ]
  },
  {
   "cell_type": "code",
   "execution_count": 20,
   "metadata": {},
   "outputs": [
    {
     "name": "stdout",
     "output_type": "stream",
     "text": [
      "NOTE: plot_psd() is a legacy function. New code should use .compute_psd().plot().\n",
      "Setting 393523 of 666112 (59.08%) samples to NaN, retaining 272589 (40.92%) samples.\n",
      "Effective window size : 4.000 (s)\n",
      "At least one good data span is shorter than n_per_seg, and will be analyzed with a shorter window than the rest of the file.\n",
      "Plotting power spectral density (dB=True).\n"
     ]
    },
    {
     "name": "stderr",
     "output_type": "stream",
     "text": [
      "C:\\Users\\mfbpe\\AppData\\Local\\Temp\\ipykernel_44552\\2847632005.py:1: FutureWarning: The value of `amplitude='auto'` will be removed in MNE 1.8.0, and the new default will be `amplitude=False`.\n",
      "  raw.plot_psd()\n"
     ]
    },
    {
     "data": {
      "text/plain": [
       "<MNELineFigure size 1000x350 with 2 Axes>"
      ]
     },
     "execution_count": 20,
     "metadata": {},
     "output_type": "execute_result"
    }
   ],
   "source": [
    "raw.plot_psd()"
   ]
  },
  {
   "cell_type": "code",
   "execution_count": 8,
   "metadata": {},
   "outputs": [
    {
     "name": "stdout",
     "output_type": "stream",
     "text": [
      "Writing 'C:\\Users\\mfbpe\\Desktop\\DATA\\2023_Social_Influence\\bids\\participants.tsv'...\n",
      "Writing 'C:\\Users\\mfbpe\\Desktop\\DATA\\2023_Social_Influence\\bids\\participants.json'...\n",
      "Writing 'C:/Users/mfbpe/Desktop/DATA/2023_Social_Influence/bids/sub-151/eeg/sub-151_space-CapTrak_electrodes.tsv'...\n",
      "Writing 'C:/Users/mfbpe/Desktop/DATA/2023_Social_Influence/bids/sub-151/eeg/sub-151_space-CapTrak_coordsystem.json'...\n",
      "The provided raw data contains annotations, but you did not pass an \"event_id\" mapping from annotation descriptions to event codes. We will generate arbitrary event codes. To specify custom event codes, please pass \"event_id\".\n",
      "Used Annotations descriptions: ['BAD_', 'selection/forced/authority/no', 'selection/forced/authority/yes', 'selection/forced/group/no', 'selection/forced/group/yes', 'selection/forced/indiv/no', 'selection/forced/indiv/yes', 'selection/free/authority/no', 'selection/free/authority/yes', 'selection/free/group/no', 'selection/free/group/yes', 'selection/free/indiv/no', 'selection/free/indiv/yes', 'vizualisation/forced/authority/no', 'vizualisation/forced/authority/yes', 'vizualisation/forced/group/no', 'vizualisation/forced/group/yes', 'vizualisation/forced/indiv/no', 'vizualisation/forced/indiv/yes', 'vizualisation/free/authority-no/group-no', 'vizualisation/free/authority-no/group-yes', 'vizualisation/free/authority-no/indiv-no', 'vizualisation/free/authority-no/indiv-yes', 'vizualisation/free/authority-yes/group-no', 'vizualisation/free/authority-yes/group-yes', 'vizualisation/free/authority-yes/indiv-no', 'vizualisation/free/authority-yes/indiv-yes', 'vizualisation/free/group-no/indiv-no', 'vizualisation/free/group-no/indiv-yes', 'vizualisation/free/group-yes/indiv-no', 'vizualisation/free/group-yes/indiv-yes']\n",
      "Writing 'C:\\Users\\mfbpe\\Desktop\\DATA\\2023_Social_Influence\\bids\\sub-151\\eeg\\sub-151_task-socInfluenceV2_events.tsv'...\n",
      "Writing 'C:\\Users\\mfbpe\\Desktop\\DATA\\2023_Social_Influence\\bids\\sub-151\\eeg\\sub-151_task-socInfluenceV2_events.json'...\n",
      "Writing 'C:\\Users\\mfbpe\\Desktop\\DATA\\2023_Social_Influence\\bids\\dataset_description.json'...\n",
      "Writing 'C:\\Users\\mfbpe\\Desktop\\DATA\\2023_Social_Influence\\bids\\sub-151\\eeg\\sub-151_task-socInfluenceV2_eeg.json'...\n",
      "Writing 'C:\\Users\\mfbpe\\Desktop\\DATA\\2023_Social_Influence\\bids\\sub-151\\eeg\\sub-151_task-socInfluenceV2_channels.tsv'...\n",
      "Copying data files to sub-151_task-socInfluenceV2_eeg.vhdr\n"
     ]
    },
    {
     "name": "stderr",
     "output_type": "stream",
     "text": [
      "C:\\Users\\mfbpe\\AppData\\Local\\Temp\\ipykernel_2448\\3102110663.py:1: RuntimeWarning: Converting data files to BrainVision format\n",
      "  write_raw_bids(raw, bidspath, format='BrainVision', allow_preload=True, overwrite=True)\n"
     ]
    },
    {
     "name": "stdout",
     "output_type": "stream",
     "text": [
      "Writing 'C:\\Users\\mfbpe\\Desktop\\DATA\\2023_Social_Influence\\bids\\sub-151\\sub-151_scans.tsv'...\n",
      "Wrote C:\\Users\\mfbpe\\Desktop\\DATA\\2023_Social_Influence\\bids\\sub-151\\sub-151_scans.tsv entry with eeg\\sub-151_task-socInfluenceV2_eeg.vhdr.\n"
     ]
    },
    {
     "data": {
      "text/plain": [
       "BIDSPath(\n",
       "root: C:/Users/mfbpe/Desktop/DATA/2023_Social_Influence/bids\n",
       "datatype: eeg\n",
       "basename: sub-151_task-socInfluenceV2_eeg.vhdr)"
      ]
     },
     "execution_count": 8,
     "metadata": {},
     "output_type": "execute_result"
    }
   ],
   "source": [
    "write_raw_bids(raw, bidspath, format='BrainVision', allow_preload=True, overwrite=True)\n"
   ]
  },
  {
   "cell_type": "code",
   "execution_count": 2,
   "metadata": {},
   "outputs": [],
   "source": [
    "\n",
    "# Interpolate bad channels for participants in the prtp_chs_out list\n",
    "if n_part in list(prtp_chs_out):\n",
    "    raw.info['bads'] = prtp_chs_out[n_part]\n",
    "    raw = raw.interpolate_bads()\n",
    "else :\n",
    "    noisy= NoisyChannels(raw)\n",
    "    noisy.find_all_bads()\n",
    "    bad_chs = noisy.get_bads()\n",
    "    raw.info['bads'] = bad_chs\n",
    "    raw = raw.interpolate_bads()\n",
    "\n",
    "    prtp_chs_out[n_part]=bad_chs\n",
    "\n",
    "# Perform Independent Component Analysis (ICA) on the copied data\n",
    "ica = mne.preprocessing.ICA(random_state=21, max_iter='auto')\n",
    "ica.fit(raw)\n",
    "\n",
    "# Set the channel types for EOG channels based on the participant\n",
    "raw.set_channel_types({'Fp1': 'eog', 'Fp2': 'eog'})\n",
    "\n",
    "# Selecting bad components ICA for participants in the prtp_ica_out list or calculating bad components\n",
    "\n",
    "if n_part in list(prtp_ica_out):\n",
    "    eog_indices = prtp_ica_out[n_part]\n",
    "else : \n",
    "    # Find ICs (Independent Components) that match the EOG pattern\n",
    "    eog_indices, eog_scores = ica.find_bads_eog(raw, measure='correlation', threshold=0.5)\n",
    "    prtp_ica_out[n_part]=eog_indices\n",
    "\n",
    "ica.exclude = eog_indices\n",
    "\n",
    "# Set the channel types back to EEG channels \n",
    "raw.set_channel_types({'Fp1': 'eeg', 'Fp2': 'eeg'})\n",
    "\n",
    "# If there are EOG components to exclude, plot diagnostics and save the figures\n",
    "if len(eog_indices) > 0:\n",
    "    ica.apply(raw)\n",
    "    fig = ica.plot_components(picks=np.arange(ica.n_components_), show = False) #create figures of the components with the one removed\n",
    "    fig.savefig(f\"{root_image}sub-{n_part}_SIV2_ICA.png\")\n",
    "\n",
    "del ica\n",
    "\n",
    "# Save the preprocessed raw data\n",
    "raw.save(f\"sub-{n_part}_SIV2_raw.fif\", overwrite=True)\n",
    "\n",
    "del raw\n",
    "\n",
    "# create the txt file\n",
    "\n",
    "with open('list_bad_channels.txt', 'w') as f:\n",
    "    f.write('dict = ' + repr(prtp_chs_out) + '\\n')\n",
    "    \n",
    "with open('list_bad_ica.txt', 'w') as f:\n",
    "    f.write('dict = ' + repr(prtp_ica_out) + '\\n')    \n"
   ]
  }
 ],
 "metadata": {
  "kernelspec": {
   "display_name": "eeg",
   "language": "python",
   "name": "python3"
  },
  "language_info": {
   "codemirror_mode": {
    "name": "ipython",
    "version": 3
   },
   "file_extension": ".py",
   "mimetype": "text/x-python",
   "name": "python",
   "nbconvert_exporter": "python",
   "pygments_lexer": "ipython3",
   "version": "3.10.13"
  },
  "orig_nbformat": 4,
  "vscode": {
   "interpreter": {
    "hash": "8175373abc7e533c5c6f0d481e3768ac0b3f999cc8f1de13682a496ea022cecc"
   }
  }
 },
 "nbformat": 4,
 "nbformat_minor": 2
}
